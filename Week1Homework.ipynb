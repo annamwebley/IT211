{
 "cells": [
  {
   "cell_type": "code",
   "execution_count": 1,
   "metadata": {
    "collapsed": true
   },
   "outputs": [],
   "source": [
    "def get_user_input(message):\n",
    "    result = float(input(f\"{message}:\"))\n",
    "    if result < 0:\n",
    "        print(\"This is an error message, please enter higher number\")\n",
    "        #exit()\n",
    "    else:\n",
    "        return result"
   ]
  },
  {
   "cell_type": "code",
   "execution_count": 3,
   "metadata": {},
   "outputs": [
    {
     "name": "stdout",
     "output_type": "stream",
     "text": [
      "Enter amount of loan:100000\n",
      "Interest rate in percent i.e. 5:8\n",
      "Number of years:10\n"
     ]
    }
   ],
   "source": [
    "principal = get_user_input(\"Enter amount of loan\")\n",
    "rate = get_user_input(\"Interest rate in percent i.e. 5\") / 100 / 12\n",
    "num_years = get_user_input(\"Number of years\")\n",
    "num_payments = 12 * num_years"
   ]
  },
  {
   "cell_type": "code",
   "execution_count": 4,
   "metadata": {
    "collapsed": true
   },
   "outputs": [],
   "source": [
    "def get_monthly_payment(principal, rate, num_payments):\n",
    "    monthly_payment = principal * ((rate * ((1+rate) ** num_payments)) / ((1+rate) ** num_payments - 1))\n",
    "    return round(monthly_payment,2)"
   ]
  },
  {
   "cell_type": "code",
   "execution_count": 5,
   "metadata": {
    "collapsed": true
   },
   "outputs": [],
   "source": [
    "monthly_payment= get_monthly_payment(principal, rate, num_payments)"
   ]
  },
  {
   "cell_type": "code",
   "execution_count": 7,
   "metadata": {},
   "outputs": [
    {
     "name": "stdout",
     "output_type": "stream",
     "text": [
      "your monthly payment is: 1213.28\n"
     ]
    }
   ],
   "source": [
    "print(f\"your monthly payment is: {monthly_payment}\")"
   ]
  },
  {
   "cell_type": "code",
   "execution_count": null,
   "metadata": {
    "collapsed": true
   },
   "outputs": [],
   "source": []
  }
 ],
 "metadata": {
  "kernelspec": {
   "display_name": "Python 3",
   "language": "python",
   "name": "python3"
  },
  "language_info": {
   "codemirror_mode": {
    "name": "ipython",
    "version": 3
   },
   "file_extension": ".py",
   "mimetype": "text/x-python",
   "name": "python",
   "nbconvert_exporter": "python",
   "pygments_lexer": "ipython3",
   "version": "3.6.3"
  }
 },
 "nbformat": 4,
 "nbformat_minor": 2
}
