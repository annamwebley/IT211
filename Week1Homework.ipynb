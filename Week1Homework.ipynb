{
 "cells": [
  {
   "cell_type": "code",
   "execution_count": null,
   "metadata": {},
   "outputs": [],
   "source": [
    "def monthlyPayment():\n",
    "    #set it equal to 0 for all interactions with numbers\n",
    "    val = 0;\n",
    "    #set variables to appropriate letter\n",
    "    p = int(input (\"Enter amount of loan:\"));\n",
    "    r = int(input(\"Interest rate in percent:\"));\n",
    "    n = int(input(\"Number of years:\"));\n",
    "    #begin if statement\n",
    "    if all([p, r, n]) < 0:\n",
    "        print(\"This is an error message, please enter higher number\");\n",
    "        exit();"
   ]
  },
  {
   "cell_type": "code",
   "execution_count": null,
   "metadata": {},
   "outputs": [
    {
     "name": "stdout",
     "output_type": "stream",
     "text": [
      "Enter amount of loan:-1\n",
      "Interest rate in percent:-000\n"
     ]
    }
   ],
   "source": [
    "monthlyPayment();"
   ]
  },
  {
   "cell_type": "code",
   "execution_count": null,
   "metadata": {
    "collapsed": true
   },
   "outputs": [],
   "source": []
  }
 ],
 "metadata": {
  "kernelspec": {
   "display_name": "Python 3",
   "language": "python",
   "name": "python3"
  },
  "language_info": {
   "codemirror_mode": {
    "name": "ipython",
    "version": 3
   },
   "file_extension": ".py",
   "mimetype": "text/x-python",
   "name": "python",
   "nbconvert_exporter": "python",
   "pygments_lexer": "ipython3",
   "version": "3.6.3"
  }
 },
 "nbformat": 4,
 "nbformat_minor": 2
}
